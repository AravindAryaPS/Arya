{
  "nbformat": 4,
  "nbformat_minor": 0,
  "metadata": {
    "colab": {
      "provenance": [],
      "collapsed_sections": [],
      "include_colab_link": true
    },
    "kernelspec": {
      "name": "python3",
      "display_name": "Python 3"
    },
    "language_info": {
      "name": "python"
    }
  },
  "cells": [
    {
      "cell_type": "markdown",
      "metadata": {
        "id": "view-in-github",
        "colab_type": "text"
      },
      "source": [
        "<a href=\"https://colab.research.google.com/github/AravindAryaPS/Arya/blob/master/DE_SOLUTION_Aravind_PS.ipynb\" target=\"_parent\"><img src=\"https://colab.research.google.com/assets/colab-badge.svg\" alt=\"Open In Colab\"/></a>"
      ]
    },
    {
      "cell_type": "markdown",
      "source": [
        "# Section 1-- Environment setup and Data Loading."
      ],
      "metadata": {
        "id": "9ZDMu6soSaAC"
      }
    },
    {
      "cell_type": "code",
      "source": [
        "# Updating Installed packages in Google Colab Notebook\n",
        "!apt-get update -y"
      ],
      "metadata": {
        "colab": {
          "base_uri": "https://localhost:8080/"
        },
        "id": "zQBIjgKRSU0t",
        "outputId": "67c5d085-29b5-4e03-fb9f-2dc35856307b"
      },
      "execution_count": null,
      "outputs": [
        {
          "output_type": "stream",
          "name": "stdout",
          "text": [
            "\r0% [Working]\r            \rGet:1 http://ppa.launchpad.net/c2d4u.team/c2d4u4.0+/ubuntu bionic InRelease [15.9 kB]\n",
            "\r0% [Connecting to archive.ubuntu.com (91.189.91.38)] [Connecting to security.ub\r0% [Connecting to archive.ubuntu.com (91.189.91.38)] [Connecting to security.ub\r0% [1 InRelease gpgv 15.9 kB] [Connecting to archive.ubuntu.com (91.189.91.38)]\r                                                                               \rHit:2 http://ppa.launchpad.net/cran/libgit2/ubuntu bionic InRelease\n",
            "\r0% [1 InRelease gpgv 15.9 kB] [Connecting to archive.ubuntu.com (91.189.91.38)]\r                                                                               \rHit:3 http://ppa.launchpad.net/deadsnakes/ppa/ubuntu bionic InRelease\n",
            "\r0% [1 InRelease gpgv 15.9 kB] [Connecting to archive.ubuntu.com (91.189.91.38)]\r                                                                               \rHit:4 http://ppa.launchpad.net/graphics-drivers/ppa/ubuntu bionic InRelease\n",
            "\r0% [1 InRelease gpgv 15.9 kB] [Waiting for headers] [Waiting for headers] [Conn\r                                                                               \rGet:5 http://security.ubuntu.com/ubuntu bionic-security InRelease [88.7 kB]\n",
            "\r0% [1 InRelease gpgv 15.9 kB] [Waiting for headers] [5 InRelease 14.2 kB/88.7 k\r                                                                               \rHit:6 http://archive.ubuntu.com/ubuntu bionic InRelease\n",
            "Get:7 https://cloud.r-project.org/bin/linux/ubuntu bionic-cran40/ InRelease [3,626 B]\n",
            "Get:8 http://archive.ubuntu.com/ubuntu bionic-updates InRelease [88.7 kB]\n",
            "Get:9 http://ppa.launchpad.net/c2d4u.team/c2d4u4.0+/ubuntu bionic/main Sources [2,155 kB]\n",
            "Get:10 http://ppa.launchpad.net/c2d4u.team/c2d4u4.0+/ubuntu bionic/main amd64 Packages [1,104 kB]\n",
            "Get:11 http://archive.ubuntu.com/ubuntu bionic-backports InRelease [83.3 kB]\n",
            "Ign:12 https://developer.download.nvidia.com/compute/machine-learning/repos/ubuntu1804/x86_64  InRelease\n",
            "Hit:13 https://developer.download.nvidia.com/compute/cuda/repos/ubuntu1804/x86_64  InRelease\n",
            "Hit:14 https://developer.download.nvidia.com/compute/machine-learning/repos/ubuntu1804/x86_64  Release\n",
            "Get:15 http://security.ubuntu.com/ubuntu bionic-security/main amd64 Packages [2,990 kB]\n",
            "Get:16 http://archive.ubuntu.com/ubuntu bionic-updates/universe amd64 Packages [2,322 kB]\n",
            "Get:18 http://security.ubuntu.com/ubuntu bionic-security/universe amd64 Packages [1,545 kB]\n",
            "Get:19 http://archive.ubuntu.com/ubuntu bionic-updates/main amd64 Packages [3,422 kB]\n",
            "Get:20 http://archive.ubuntu.com/ubuntu bionic-backports/main amd64 Packages [64.0 kB]\n",
            "Get:21 http://archive.ubuntu.com/ubuntu bionic-backports/universe amd64 Packages [20.6 kB]\n",
            "Fetched 13.9 MB in 3s (5,231 kB/s)\n",
            "Reading package lists... Done\n"
          ]
        }
      ]
    },
    {
      "cell_type": "code",
      "source": [
        "# For using Spark we need to setup JVM to run spark\n",
        "!apt-get install openjdk-8-jdk-headless -qq > /dev/null\n",
        "\n",
        "# downloading and unzip Apache Spark with Hadoop\n",
        "!wget -q https://archive.apache.org/dist/spark/spark-3.1.2/spark-3.1.2-bin-hadoop2.7.tgz\n",
        "!tar xf spark-3.1.2-bin-hadoop2.7.tgz\n",
        "\n",
        "# Setup Environment for JAVA and Spark\n",
        "\n",
        "import os\n",
        "os.environ[\"JAVA_HOME\"] = \"/usr/lib/jvm/java-8-openjdk-amd64\"\n",
        "os.environ[\"SPARK_HOME\"] = \"/content/spark-3.1.2-bin-hadoop2.7\"\n",
        "\n",
        "# installing FindSpark library\n",
        "\n",
        "!pip install -q findspark\n",
        "import findspark\n",
        "findspark.init()\n",
        "\n"
      ],
      "metadata": {
        "id": "_orwpe0MS5dK"
      },
      "execution_count": null,
      "outputs": []
    },
    {
      "cell_type": "code",
      "source": [
        "# import sparkSession from pyspark.sql and create a entry Point == Chess_Game\n",
        "\n",
        "from pyspark.sql import SparkSession\n",
        "spark = (SparkSession.builder.appName(\"Chess_Game\").getOrCreate())"
      ],
      "metadata": {
        "id": "HBO4dcSOToRS"
      },
      "execution_count": null,
      "outputs": []
    },
    {
      "cell_type": "code",
      "source": [
        "# install gdown to read a file from Drive\n",
        "\n",
        "!pip install gdown"
      ],
      "metadata": {
        "id": "ObKLJNKBUAlp",
        "colab": {
          "base_uri": "https://localhost:8080/"
        },
        "outputId": "94ca1d6e-d042-4066-f61c-56b680143a6b"
      },
      "execution_count": null,
      "outputs": [
        {
          "output_type": "stream",
          "name": "stdout",
          "text": [
            "Looking in indexes: https://pypi.org/simple, https://us-python.pkg.dev/colab-wheels/public/simple/\n",
            "Requirement already satisfied: gdown in /usr/local/lib/python3.7/dist-packages (4.4.0)\n",
            "Requirement already satisfied: tqdm in /usr/local/lib/python3.7/dist-packages (from gdown) (4.64.1)\n",
            "Requirement already satisfied: six in /usr/local/lib/python3.7/dist-packages (from gdown) (1.15.0)\n",
            "Requirement already satisfied: filelock in /usr/local/lib/python3.7/dist-packages (from gdown) (3.8.0)\n",
            "Requirement already satisfied: beautifulsoup4 in /usr/local/lib/python3.7/dist-packages (from gdown) (4.6.3)\n",
            "Requirement already satisfied: requests[socks] in /usr/local/lib/python3.7/dist-packages (from gdown) (2.23.0)\n",
            "Requirement already satisfied: idna<3,>=2.5 in /usr/local/lib/python3.7/dist-packages (from requests[socks]->gdown) (2.10)\n",
            "Requirement already satisfied: chardet<4,>=3.0.2 in /usr/local/lib/python3.7/dist-packages (from requests[socks]->gdown) (3.0.4)\n",
            "Requirement already satisfied: certifi>=2017.4.17 in /usr/local/lib/python3.7/dist-packages (from requests[socks]->gdown) (2022.6.15)\n",
            "Requirement already satisfied: urllib3!=1.25.0,!=1.25.1,<1.26,>=1.21.1 in /usr/local/lib/python3.7/dist-packages (from requests[socks]->gdown) (1.24.3)\n",
            "Requirement already satisfied: PySocks!=1.5.7,>=1.5.6 in /usr/local/lib/python3.7/dist-packages (from requests[socks]->gdown) (1.7.1)\n"
          ]
        }
      ]
    },
    {
      "cell_type": "code",
      "source": [
        "# import gdown to import the file folder to colab notebook\n",
        "\n",
        "import gdown\n",
        "\n",
        "# a folder\n",
        "url = \"https://drive.google.com/drive/folders/1QgWPHV_l25Ui9L7et8mkZohAOG59UTkQ\"\n",
        "gdown.download_folder(url, quiet=True, use_cookies=False)\n",
        "\n",
        "# same as the above, but with the folder ID\n",
        "id = \"1QgWPHV_l25Ui9L7et8mkZohAOG59UTkQ\"\n",
        "gdown.download_folder(id=id, quiet=True, use_cookies=False)\n"
      ],
      "metadata": {
        "id": "BtRKjErHTrVu",
        "colab": {
          "base_uri": "https://localhost:8080/"
        },
        "outputId": "b51042c9-37e0-4a8c-c1e1-43b25a11f72a"
      },
      "execution_count": null,
      "outputs": [
        {
          "output_type": "execute_result",
          "data": {
            "text/plain": [
              "['/content/chess/chess_schema.png',\n",
              " '/content/chess/chess_wc_history_game_info.csv',\n",
              " '/content/chess/chess_wc_history_moves.csv',\n",
              " '/content/chess/eco_codes.csv']"
            ]
          },
          "metadata": {},
          "execution_count": 5
        }
      ]
    },
    {
      "cell_type": "markdown",
      "source": [
        "# #### Read all CSV in Gdrive Dictorery"
      ],
      "metadata": {
        "id": "R77KCr3cAyQG"
      }
    },
    {
      "cell_type": "code",
      "source": [
        "\n",
        "\n",
        "game_info = spark.read.load(\"/content/chess/chess_wc_history_game_info.csv\",format='csv', sep=\",\",inferSchema=\"true\",header=True)\n",
        "moves = spark.read.load(\"/content/chess/chess_wc_history_moves.csv\",format='csv', inferSchema=\"true\", sep=\",\",header=True)\n",
        "eco_codes = spark.read.load(\"/content/chess/eco_codes.csv\",format='csv', sep=\",\",inferSchema=\"true\",header=True)\n",
        "print(\"All files loaded as DataFrame Sucessfully\")"
      ],
      "metadata": {
        "id": "Rr_Dcu5aUYSd",
        "colab": {
          "base_uri": "https://localhost:8080/"
        },
        "outputId": "21e70f64-21d9-4417-d433-59df2616d3f2"
      },
      "execution_count": null,
      "outputs": [
        {
          "output_type": "stream",
          "name": "stdout",
          "text": [
            "All files loaded as DataFrame Sucessfully\n"
          ]
        }
      ]
    },
    {
      "cell_type": "code",
      "source": [
        "# Upto above we downloaded the files from drive and readed by spark library"
      ],
      "metadata": {
        "id": "eXpndMGbVGgr"
      },
      "execution_count": null,
      "outputs": []
    },
    {
      "cell_type": "code",
      "source": [
        "#schema validation\n",
        "game_info.printSchema()"
      ],
      "metadata": {
        "id": "1Y2EPqSBW7IO",
        "colab": {
          "base_uri": "https://localhost:8080/"
        },
        "outputId": "6dbce859-c909-4ed1-e90b-eb52cedd8f5a"
      },
      "execution_count": null,
      "outputs": [
        {
          "output_type": "stream",
          "name": "stdout",
          "text": [
            "root\n",
            " |-- game_id: string (nullable = true)\n",
            " |-- game_order: integer (nullable = true)\n",
            " |-- event: string (nullable = true)\n",
            " |-- site: string (nullable = true)\n",
            " |-- date_played: string (nullable = true)\n",
            " |-- round: double (nullable = true)\n",
            " |-- white: string (nullable = true)\n",
            " |-- black: string (nullable = true)\n",
            " |-- result: string (nullable = true)\n",
            " |-- white_elo: integer (nullable = true)\n",
            " |-- black_elo: integer (nullable = true)\n",
            " |-- white_title: string (nullable = true)\n",
            " |-- black_title: string (nullable = true)\n",
            " |-- winner: string (nullable = true)\n",
            " |-- winner_elo: integer (nullable = true)\n",
            " |-- loser: string (nullable = true)\n",
            " |-- loser_elo: integer (nullable = true)\n",
            " |-- winner_loser_elo_diff: integer (nullable = true)\n",
            " |-- eco: string (nullable = true)\n",
            " |-- date_created: string (nullable = true)\n",
            " |-- tournament_name: string (nullable = true)\n",
            "\n"
          ]
        }
      ]
    },
    {
      "cell_type": "code",
      "source": [
        "# viewing data\n",
        "game_info.show(3)"
      ],
      "metadata": {
        "id": "RQcnldOjvi6K",
        "colab": {
          "base_uri": "https://localhost:8080/"
        },
        "outputId": "09b1b8a6-0a1d-473b-8e2e-3694751888ea"
      },
      "execution_count": null,
      "outputs": [
        {
          "output_type": "stream",
          "name": "stdout",
          "text": [
            "+--------------------+----------+--------+---------+-----------+-----+----------------+----------------+-------+---------+---------+-----------+-----------+------+----------+-----+---------+---------------------+---+--------------------+---------------+\n",
            "|             game_id|game_order|   event|     site|date_played|round|           white|           black| result|white_elo|black_elo|white_title|black_title|winner|winner_elo|loser|loser_elo|winner_loser_elo_diff|eco|        date_created|tournament_name|\n",
            "+--------------------+----------+--------+---------+-----------+-----+----------------+----------------+-------+---------+---------+-----------+-----------+------+----------+-----+---------+---------------------+---+--------------------+---------------+\n",
            "|86e0b7f5-7b94-4ae...|         1|WCh 2021|Dubai UAE| 2021.11.26|  1.0|Nepomniachtchi,I|       Carlsen,M|1/2-1/2|     2782|     2855|       null|       null|  draw|      null| draw|     null|                    0|C88|2022-07-22T22:33:...| WorldChamp2021|\n",
            "|dc4a10ab-54cf-49d...|         2|WCh 2021|Dubai UAE| 2021.11.27|  2.0|       Carlsen,M|Nepomniachtchi,I|1/2-1/2|     2855|     2782|       null|       null|  draw|      null| draw|     null|                    0|E06|2022-07-22T22:33:...| WorldChamp2021|\n",
            "|f042ca37-8899-488...|         3|WCh 2021|Dubai UAE| 2021.11.28|  3.0|Nepomniachtchi,I|       Carlsen,M|1/2-1/2|     2782|     2855|       null|       null|  draw|      null| draw|     null|                    0|C88|2022-07-22T22:33:...| WorldChamp2021|\n",
            "+--------------------+----------+--------+---------+-----------+-----+----------------+----------------+-------+---------+---------+-----------+-----------+------+----------+-----+---------+---------------------+---+--------------------+---------------+\n",
            "only showing top 3 rows\n",
            "\n"
          ]
        }
      ]
    },
    {
      "cell_type": "code",
      "source": [
        "#data Validation\n",
        "moves.printSchema()"
      ],
      "metadata": {
        "id": "3NCRPgYJ0rTi",
        "colab": {
          "base_uri": "https://localhost:8080/"
        },
        "outputId": "cbeda329-aa22-4d3b-955b-bb6d561b18ce"
      },
      "execution_count": null,
      "outputs": [
        {
          "output_type": "stream",
          "name": "stdout",
          "text": [
            "root\n",
            " |-- game_id: string (nullable = true)\n",
            " |-- move_no: integer (nullable = true)\n",
            " |-- move_no_pair: integer (nullable = true)\n",
            " |-- player: string (nullable = true)\n",
            " |-- notation: string (nullable = true)\n",
            " |-- move: string (nullable = true)\n",
            " |-- from_square: string (nullable = true)\n",
            " |-- to_square: string (nullable = true)\n",
            " |-- piece: string (nullable = true)\n",
            " |-- color: string (nullable = true)\n",
            " |-- fen: string (nullable = true)\n",
            " |-- is_check: integer (nullable = true)\n",
            " |-- is_check_mate: integer (nullable = true)\n",
            " |-- is_fifty_moves: integer (nullable = true)\n",
            " |-- is_fivefold_repetition: integer (nullable = true)\n",
            " |-- is_game_over: integer (nullable = true)\n",
            " |-- is_insufficient_material: integer (nullable = true)\n",
            " |-- white_count: integer (nullable = true)\n",
            " |-- black_count: integer (nullable = true)\n",
            " |-- white_pawn_count: integer (nullable = true)\n",
            " |-- black_pawn_count: integer (nullable = true)\n",
            " |-- white_queen_count: integer (nullable = true)\n",
            " |-- black_queen_count: integer (nullable = true)\n",
            " |-- white_bishop_count: integer (nullable = true)\n",
            " |-- black_bishop_count: integer (nullable = true)\n",
            " |-- white_knight_count: integer (nullable = true)\n",
            " |-- black_knight_count: integer (nullable = true)\n",
            " |-- white_rook_count: integer (nullable = true)\n",
            " |-- black_rook_count: integer (nullable = true)\n",
            " |-- captured_score_for_white: integer (nullable = true)\n",
            " |-- captured_score_for_black: integer (nullable = true)\n",
            " |-- fen_row1_white_count: integer (nullable = true)\n",
            " |-- fen_row2_white_count: integer (nullable = true)\n",
            " |-- fen_row3_white_count: integer (nullable = true)\n",
            " |-- fen_row4_white_count: integer (nullable = true)\n",
            " |-- fen_row5_white_count: integer (nullable = true)\n",
            " |-- fen_row6_white_count: integer (nullable = true)\n",
            " |-- fen_row7_white_count: integer (nullable = true)\n",
            " |-- fen_row8_white_count: integer (nullable = true)\n",
            " |-- fen_row1_white_value: integer (nullable = true)\n",
            " |-- fen_row2_white_value: integer (nullable = true)\n",
            " |-- fen_row3_white_value: integer (nullable = true)\n",
            " |-- fen_row4_white_value: integer (nullable = true)\n",
            " |-- fen_row5_white_value: integer (nullable = true)\n",
            " |-- fen_row6_white_value: integer (nullable = true)\n",
            " |-- fen_row7_white_value: integer (nullable = true)\n",
            " |-- fen_row8_white_value: integer (nullable = true)\n",
            " |-- fen_row1_black_count: integer (nullable = true)\n",
            " |-- fen_row2_black_count: integer (nullable = true)\n",
            " |-- fen_row3_black_count: integer (nullable = true)\n",
            " |-- fen_row4_black_count: integer (nullable = true)\n",
            " |-- fen_row5_black_count: integer (nullable = true)\n",
            " |-- fen_row6_black_count: integer (nullable = true)\n",
            " |-- fen_row7_black_count: integer (nullable = true)\n",
            " |-- fen_row8_black_count: integer (nullable = true)\n",
            " |-- fen_row1_black_value: integer (nullable = true)\n",
            " |-- fen_row2_black_value: integer (nullable = true)\n",
            " |-- fen_row3_black_value: integer (nullable = true)\n",
            " |-- fen_row4_black_value: integer (nullable = true)\n",
            " |-- fen_row5_black_value: integer (nullable = true)\n",
            " |-- fen_row6_black_value: integer (nullable = true)\n",
            " |-- fen_row7_black_value: integer (nullable = true)\n",
            " |-- fen_row8_black_value: integer (nullable = true)\n",
            " |-- move_sequence: string (nullable = true)\n",
            "\n"
          ]
        }
      ]
    },
    {
      "cell_type": "code",
      "source": [
        "# View data\n",
        "moves.show(5)"
      ],
      "metadata": {
        "id": "sFuQMx_M1GIC",
        "colab": {
          "base_uri": "https://localhost:8080/"
        },
        "outputId": "e0090906-8969-4b1f-e487-caaff6a4e2f9"
      },
      "execution_count": null,
      "outputs": [
        {
          "output_type": "stream",
          "name": "stdout",
          "text": [
            "+--------------------+-------+------------+----------------+--------+----+-----------+---------+-----+-----+--------------------+--------+-------------+--------------+----------------------+------------+------------------------+-----------+-----------+----------------+----------------+-----------------+-----------------+------------------+------------------+------------------+------------------+----------------+----------------+------------------------+------------------------+--------------------+--------------------+--------------------+--------------------+--------------------+--------------------+--------------------+--------------------+--------------------+--------------------+--------------------+--------------------+--------------------+--------------------+--------------------+--------------------+--------------------+--------------------+--------------------+--------------------+--------------------+--------------------+--------------------+--------------------+--------------------+--------------------+--------------------+--------------------+--------------------+--------------------+--------------------+--------------------+-----------------+\n",
            "|             game_id|move_no|move_no_pair|          player|notation|move|from_square|to_square|piece|color|                 fen|is_check|is_check_mate|is_fifty_moves|is_fivefold_repetition|is_game_over|is_insufficient_material|white_count|black_count|white_pawn_count|black_pawn_count|white_queen_count|black_queen_count|white_bishop_count|black_bishop_count|white_knight_count|black_knight_count|white_rook_count|black_rook_count|captured_score_for_white|captured_score_for_black|fen_row1_white_count|fen_row2_white_count|fen_row3_white_count|fen_row4_white_count|fen_row5_white_count|fen_row6_white_count|fen_row7_white_count|fen_row8_white_count|fen_row1_white_value|fen_row2_white_value|fen_row3_white_value|fen_row4_white_value|fen_row5_white_value|fen_row6_white_value|fen_row7_white_value|fen_row8_white_value|fen_row1_black_count|fen_row2_black_count|fen_row3_black_count|fen_row4_black_count|fen_row5_black_count|fen_row6_black_count|fen_row7_black_count|fen_row8_black_count|fen_row1_black_value|fen_row2_black_value|fen_row3_black_value|fen_row4_black_value|fen_row5_black_value|fen_row6_black_value|fen_row7_black_value|fen_row8_black_value|    move_sequence|\n",
            "+--------------------+-------+------------+----------------+--------+----+-----------+---------+-----+-----+--------------------+--------+-------------+--------------+----------------------+------------+------------------------+-----------+-----------+----------------+----------------+-----------------+-----------------+------------------+------------------+------------------+------------------+----------------+----------------+------------------------+------------------------+--------------------+--------------------+--------------------+--------------------+--------------------+--------------------+--------------------+--------------------+--------------------+--------------------+--------------------+--------------------+--------------------+--------------------+--------------------+--------------------+--------------------+--------------------+--------------------+--------------------+--------------------+--------------------+--------------------+--------------------+--------------------+--------------------+--------------------+--------------------+--------------------+--------------------+--------------------+--------------------+-----------------+\n",
            "|86e0b7f5-7b94-4ae...|      1|           1|Nepomniachtchi,I|      e4|e2e4|         e2|       e4|    P|White|rnbqkbnr/pppppppp...|       0|            0|             0|                     0|           0|                       0|         16|         16|               8|               8|                1|                1|                 2|                 2|                 2|                 2|               2|               2|                       0|                       0|                   8|                   7|                   0|                   1|                   0|                   0|                   0|                   0|                  31|                   7|                   0|                   1|                   0|                   0|                   0|                   0|                   0|                   0|                   0|                   0|                   0|                   0|                   8|                   8|                   0|                   0|                   0|                   0|                   0|                   0|                   8|                  31|               e4|\n",
            "|86e0b7f5-7b94-4ae...|      2|           1|       Carlsen,M|      e5|e7e5|         e7|       e5|    P|Black|rnbqkbnr/pppp1ppp...|       0|            0|             0|                     0|           0|                       0|         16|         16|               8|               8|                1|                1|                 2|                 2|                 2|                 2|               2|               2|                       0|                       0|                   8|                   7|                   0|                   1|                   0|                   0|                   0|                   0|                  31|                   7|                   0|                   1|                   0|                   0|                   0|                   0|                   0|                   0|                   0|                   0|                   1|                   0|                   7|                   8|                   0|                   0|                   0|                   0|                   1|                   0|                   7|                  31|            e4|e5|\n",
            "|86e0b7f5-7b94-4ae...|      3|           2|Nepomniachtchi,I|     Nf3|g1f3|         g1|       f3|    N|White|rnbqkbnr/pppp1ppp...|       0|            0|             0|                     0|           0|                       0|         16|         16|               8|               8|                1|                1|                 2|                 2|                 2|                 2|               2|               2|                       0|                       0|                   7|                   7|                   1|                   1|                   0|                   0|                   0|                   0|                  28|                   7|                   3|                   1|                   0|                   0|                   0|                   0|                   0|                   0|                   0|                   0|                   1|                   0|                   7|                   8|                   0|                   0|                   0|                   0|                   1|                   0|                   7|                  31|        e4|e5|Nf3|\n",
            "|86e0b7f5-7b94-4ae...|      4|           2|       Carlsen,M|     Nc6|b8c6|         b8|       c6|    N|Black|r1bqkbnr/pppp1ppp...|       0|            0|             0|                     0|           0|                       0|         16|         16|               8|               8|                1|                1|                 2|                 2|                 2|                 2|               2|               2|                       0|                       0|                   7|                   7|                   1|                   1|                   0|                   0|                   0|                   0|                  28|                   7|                   3|                   1|                   0|                   0|                   0|                   0|                   0|                   0|                   0|                   0|                   1|                   1|                   7|                   7|                   0|                   0|                   0|                   0|                   1|                   3|                   7|                  28|    e4|e5|Nf3|Nc6|\n",
            "|86e0b7f5-7b94-4ae...|      5|           3|Nepomniachtchi,I|     Bb5|f1b5|         f1|       b5|    B|White|r1bqkbnr/pppp1ppp...|       0|            0|             0|                     0|           0|                       0|         16|         16|               8|               8|                1|                1|                 2|                 2|                 2|                 2|               2|               2|                       0|                       0|                   6|                   7|                   1|                   1|                   1|                   0|                   0|                   0|                  25|                   7|                   3|                   1|                   3|                   0|                   0|                   0|                   0|                   0|                   0|                   0|                   1|                   1|                   7|                   7|                   0|                   0|                   0|                   0|                   1|                   3|                   7|                  28|e4|e5|Nf3|Nc6|Bb5|\n",
            "+--------------------+-------+------------+----------------+--------+----+-----------+---------+-----+-----+--------------------+--------+-------------+--------------+----------------------+------------+------------------------+-----------+-----------+----------------+----------------+-----------------+-----------------+------------------+------------------+------------------+------------------+----------------+----------------+------------------------+------------------------+--------------------+--------------------+--------------------+--------------------+--------------------+--------------------+--------------------+--------------------+--------------------+--------------------+--------------------+--------------------+--------------------+--------------------+--------------------+--------------------+--------------------+--------------------+--------------------+--------------------+--------------------+--------------------+--------------------+--------------------+--------------------+--------------------+--------------------+--------------------+--------------------+--------------------+--------------------+--------------------+-----------------+\n",
            "only showing top 5 rows\n",
            "\n"
          ]
        }
      ]
    },
    {
      "cell_type": "code",
      "source": [
        "# schema validation \n",
        "eco_codes.printSchema()"
      ],
      "metadata": {
        "id": "gW_sgZ421KXq",
        "colab": {
          "base_uri": "https://localhost:8080/"
        },
        "outputId": "bc44408f-fa06-4e80-ecdb-b2b59d67864c"
      },
      "execution_count": null,
      "outputs": [
        {
          "output_type": "stream",
          "name": "stdout",
          "text": [
            "root\n",
            " |-- eco: string (nullable = true)\n",
            " |-- eco_name: string (nullable = true)\n",
            " |-- eco_example: string (nullable = true)\n",
            " |-- eco_type: string (nullable = true)\n",
            " |-- eco_group: string (nullable = true)\n",
            "\n"
          ]
        }
      ]
    },
    {
      "cell_type": "code",
      "source": [
        "#view data \n",
        "eco_codes.show(3)"
      ],
      "metadata": {
        "id": "3LiAoolF1R0K",
        "colab": {
          "base_uri": "https://localhost:8080/"
        },
        "outputId": "c73e76b9-c10f-423b-ddb8-a7befac02d37"
      },
      "execution_count": null,
      "outputs": [
        {
          "output_type": "stream",
          "name": "stdout",
          "text": [
            "+---+--------------------+------------------+--------+---------+\n",
            "|eco|            eco_name|       eco_example|eco_type|eco_group|\n",
            "+---+--------------------+------------------+--------+---------+\n",
            "|A00|    Uncommon Opening|1 g4, a3, h3, etc.|       A|    Flank|\n",
            "|A01|Nimzovich-Larsen ...|              1 b3|       A|    Flank|\n",
            "|A02|      Bird's Opening|              1 f4|       A|    Flank|\n",
            "+---+--------------------+------------------+--------+---------+\n",
            "only showing top 3 rows\n",
            "\n"
          ]
        }
      ]
    },
    {
      "cell_type": "code",
      "source": [
        "# Here We convert string date data to Date format and rename location from site\n",
        "from pyspark.sql.functions import col \n",
        "from pyspark.sql.functions import to_date\n",
        "game_info = game_info \\\n",
        "            .withColumn(\"date_played\",to_date(col(\"date_played\"),\"yyyy.MM.dd\"))\n",
        "game_info =game_info.withColumnRenamed(\"site\",\"location\")\n",
        "game_info.show(3)\n"
      ],
      "metadata": {
        "id": "bjUZU2OP1XmK",
        "colab": {
          "base_uri": "https://localhost:8080/"
        },
        "outputId": "6d276208-dee4-4357-80dc-2450ad1344f3"
      },
      "execution_count": null,
      "outputs": [
        {
          "output_type": "stream",
          "name": "stdout",
          "text": [
            "+--------------------+----------+--------+---------+-----------+-----+----------------+----------------+-------+---------+---------+-----------+-----------+------+----------+-----+---------+---------------------+---+--------------------+---------------+\n",
            "|             game_id|game_order|   event| location|date_played|round|           white|           black| result|white_elo|black_elo|white_title|black_title|winner|winner_elo|loser|loser_elo|winner_loser_elo_diff|eco|        date_created|tournament_name|\n",
            "+--------------------+----------+--------+---------+-----------+-----+----------------+----------------+-------+---------+---------+-----------+-----------+------+----------+-----+---------+---------------------+---+--------------------+---------------+\n",
            "|86e0b7f5-7b94-4ae...|         1|WCh 2021|Dubai UAE| 2021-11-26|  1.0|Nepomniachtchi,I|       Carlsen,M|1/2-1/2|     2782|     2855|       null|       null|  draw|      null| draw|     null|                    0|C88|2022-07-22T22:33:...| WorldChamp2021|\n",
            "|dc4a10ab-54cf-49d...|         2|WCh 2021|Dubai UAE| 2021-11-27|  2.0|       Carlsen,M|Nepomniachtchi,I|1/2-1/2|     2855|     2782|       null|       null|  draw|      null| draw|     null|                    0|E06|2022-07-22T22:33:...| WorldChamp2021|\n",
            "|f042ca37-8899-488...|         3|WCh 2021|Dubai UAE| 2021-11-28|  3.0|Nepomniachtchi,I|       Carlsen,M|1/2-1/2|     2782|     2855|       null|       null|  draw|      null| draw|     null|                    0|C88|2022-07-22T22:33:...| WorldChamp2021|\n",
            "+--------------------+----------+--------+---------+-----------+-----+----------------+----------------+-------+---------+---------+-----------+-----------+------+----------+-----+---------+---------------------+---+--------------------+---------------+\n",
            "only showing top 3 rows\n",
            "\n"
          ]
        }
      ]
    },
    {
      "cell_type": "code",
      "source": [
        "# schema validation after process\n",
        "game_info.printSchema()"
      ],
      "metadata": {
        "id": "sPJrNNvU3hGB",
        "colab": {
          "base_uri": "https://localhost:8080/"
        },
        "outputId": "dea46ceb-0543-46f0-e4f6-ef6419bd39c5"
      },
      "execution_count": null,
      "outputs": [
        {
          "output_type": "stream",
          "name": "stdout",
          "text": [
            "root\n",
            " |-- game_id: string (nullable = true)\n",
            " |-- game_order: integer (nullable = true)\n",
            " |-- event: string (nullable = true)\n",
            " |-- location: string (nullable = true)\n",
            " |-- date_played: date (nullable = true)\n",
            " |-- round: double (nullable = true)\n",
            " |-- white: string (nullable = true)\n",
            " |-- black: string (nullable = true)\n",
            " |-- result: string (nullable = true)\n",
            " |-- white_elo: integer (nullable = true)\n",
            " |-- black_elo: integer (nullable = true)\n",
            " |-- white_title: string (nullable = true)\n",
            " |-- black_title: string (nullable = true)\n",
            " |-- winner: string (nullable = true)\n",
            " |-- winner_elo: integer (nullable = true)\n",
            " |-- loser: string (nullable = true)\n",
            " |-- loser_elo: integer (nullable = true)\n",
            " |-- winner_loser_elo_diff: integer (nullable = true)\n",
            " |-- eco: string (nullable = true)\n",
            " |-- date_created: string (nullable = true)\n",
            " |-- tournament_name: string (nullable = true)\n",
            "\n"
          ]
        }
      ]
    },
    {
      "cell_type": "markdown",
      "source": [
        "# Section 2-- Using PySpark for Data analysis"
      ],
      "metadata": {
        "id": "vNM_T8ebYSy7"
      }
    },
    {
      "cell_type": "code",
      "source": [
        "# In given data there are different type Event are played.\n",
        "# But we want to process 'World Championship' Event Only"
      ],
      "metadata": {
        "id": "LN3hoNpSOQP5"
      },
      "execution_count": null,
      "outputs": []
    },
    {
      "cell_type": "code",
      "source": [
        "# Creating TempView table to filter World Champ series only\n",
        "wcp2 = game_info \\\n",
        "          .filter((~ game_info.event.contains('KO')) \\\n",
        "                  &(~ game_info.event.contains('k.o')) \\\n",
        "                  & (game_info.tournament_name.contains(\"WorldChamp\")))\n",
        "wcp2.createOrReplaceTempView(\"wcp\")\n",
        "wcp = spark.sql(\"SELECT * FROM wcp\")\n",
        "wcp.show(5)"
      ],
      "metadata": {
        "id": "6BUnwy1BYurL",
        "colab": {
          "base_uri": "https://localhost:8080/"
        },
        "outputId": "76b49811-f205-4ce7-d972-5734b497568e"
      },
      "execution_count": null,
      "outputs": [
        {
          "output_type": "stream",
          "name": "stdout",
          "text": [
            "+--------------------+----------+--------+---------+-----------+-----+----------------+----------------+-------+---------+---------+-----------+-----------+------+----------+-----+---------+---------------------+---+--------------------+---------------+\n",
            "|             game_id|game_order|   event| location|date_played|round|           white|           black| result|white_elo|black_elo|white_title|black_title|winner|winner_elo|loser|loser_elo|winner_loser_elo_diff|eco|        date_created|tournament_name|\n",
            "+--------------------+----------+--------+---------+-----------+-----+----------------+----------------+-------+---------+---------+-----------+-----------+------+----------+-----+---------+---------------------+---+--------------------+---------------+\n",
            "|86e0b7f5-7b94-4ae...|         1|WCh 2021|Dubai UAE| 2021-11-26|  1.0|Nepomniachtchi,I|       Carlsen,M|1/2-1/2|     2782|     2855|       null|       null|  draw|      null| draw|     null|                    0|C88|2022-07-22T22:33:...| WorldChamp2021|\n",
            "|dc4a10ab-54cf-49d...|         2|WCh 2021|Dubai UAE| 2021-11-27|  2.0|       Carlsen,M|Nepomniachtchi,I|1/2-1/2|     2855|     2782|       null|       null|  draw|      null| draw|     null|                    0|E06|2022-07-22T22:33:...| WorldChamp2021|\n",
            "|f042ca37-8899-488...|         3|WCh 2021|Dubai UAE| 2021-11-28|  3.0|Nepomniachtchi,I|       Carlsen,M|1/2-1/2|     2782|     2855|       null|       null|  draw|      null| draw|     null|                    0|C88|2022-07-22T22:33:...| WorldChamp2021|\n",
            "|f70e4bbc-21e3-46f...|         4|WCh 2021|Dubai UAE| 2021-11-30|  4.0|       Carlsen,M|Nepomniachtchi,I|1/2-1/2|     2855|     2782|       null|       null|  draw|      null| draw|     null|                    0|C42|2022-07-22T22:33:...| WorldChamp2021|\n",
            "|c941c323-308a-4c8...|         5|WCh 2021|Dubai UAE| 2021-12-01|  5.0|Nepomniachtchi,I|       Carlsen,M|1/2-1/2|     2782|     2855|       null|       null|  draw|      null| draw|     null|                    0|C88|2022-07-22T22:33:...| WorldChamp2021|\n",
            "+--------------------+----------+--------+---------+-----------+-----+----------------+----------------+-------+---------+---------+-----------+-----------+------+----------+-----+---------+---------------------+---+--------------------+---------------+\n",
            "only showing top 5 rows\n",
            "\n"
          ]
        }
      ]
    },
    {
      "cell_type": "code",
      "source": [
        "# Checking filter Tournament only contain WCP event only\n",
        "wcp.groupBy('event').count().show(5)"
      ],
      "metadata": {
        "id": "fXxvCoPRafaS",
        "colab": {
          "base_uri": "https://localhost:8080/"
        },
        "outputId": "187cb4d8-5ac2-49ce-b4c0-567396cfa37f"
      },
      "execution_count": null,
      "outputs": [
        {
          "output_type": "stream",
          "name": "stdout",
          "text": [
            "+--------------------+-----+\n",
            "|               event|count|\n",
            "+--------------------+-----+\n",
            "|World Championshi...|   32|\n",
            "|World Championshi...|   22|\n",
            "|World Championshi...|   26|\n",
            "|World Championshi...|   25|\n",
            "|World Championshi...|   21|\n",
            "+--------------------+-----+\n",
            "only showing top 5 rows\n",
            "\n"
          ]
        }
      ]
    },
    {
      "cell_type": "code",
      "source": [
        "# List of Winners of Each World champions Trophy.\n",
        "\n",
        "from pyspark.sql.functions import split\n",
        "wcp12 =wcp.filter((wcp.winner != 'draw'))\n",
        "wcp1 = wcp12.withColumn(\"Player\", split(col(\"winner\"), \",\").getItem(0))\n",
        "wce =(wcp1.groupBy(['tournament_name','Player']).max())\n",
        "wcd = wce.orderBy(wce.tournament_name.desc(),wce['max(game_order)'].desc())\n",
        "wc =wcd.dropDuplicates(['tournament_name']).orderBy(wcd.tournament_name.desc(),wcd['max(game_order)'].desc())\n",
        "wc.createOrReplaceTempView('winner')\n",
        "winner = spark.sql(\"select player as winner,tournament_name  from winner\")\n",
        "spark.catalog.dropTempView('winner')\n",
        "df1 =winner\n",
        "winner.show(10)"
      ],
      "metadata": {
        "id": "fRaZ-Q3yWoJD",
        "colab": {
          "base_uri": "https://localhost:8080/"
        },
        "outputId": "9ab35318-12b3-412a-ca63-423b8ceff3fa"
      },
      "execution_count": null,
      "outputs": [
        {
          "output_type": "stream",
          "name": "stdout",
          "text": [
            "+-------+---------------+\n",
            "| winner|tournament_name|\n",
            "+-------+---------------+\n",
            "|Carlsen| WorldChamp2021|\n",
            "|Carlsen| WorldChamp2016|\n",
            "|Carlsen| WorldChamp2014|\n",
            "|Carlsen| WorldChamp2013|\n",
            "|  Anand| WorldChamp2012|\n",
            "|  Anand| WorldChamp2010|\n",
            "|Kramnik| WorldChamp2008|\n",
            "|Kramnik| WorldChamp2007|\n",
            "|Kramnik| WorldChamp2006|\n",
            "|Kramnik| WorldChamp2004|\n",
            "+-------+---------------+\n",
            "only showing top 10 rows\n",
            "\n"
          ]
        }
      ]
    },
    {
      "cell_type": "code",
      "source": [
        "#  List of Players with number of times they have won Tournament in descending order(Max to min).\n",
        "\n",
        "no_title = wcd.groupBy('Player').count()\n",
        "no_title = no_title.withColumnRenamed('count','number_of_wins')\n",
        "no_title = no_title.orderBy(no_title['number_of_wins'].desc())\n",
        "df2 = no_title\n",
        "no_title.show()\n"
      ],
      "metadata": {
        "id": "h4bCBvmmYkFb",
        "colab": {
          "base_uri": "https://localhost:8080/"
        },
        "outputId": "58abc514-3955-4618-e1e8-3ae28fbc9dc0"
      },
      "execution_count": null,
      "outputs": [
        {
          "output_type": "stream",
          "name": "stdout",
          "text": [
            "+----------+--------------+\n",
            "|    Player|number_of_wins|\n",
            "+----------+--------------+\n",
            "| Botvinnik|             8|\n",
            "|    Lasker|             7|\n",
            "|    Karpov|             7|\n",
            "|  Steinitz|             6|\n",
            "|     Anand|             5|\n",
            "|   Kramnik|             5|\n",
            "|  Alekhine|             5|\n",
            "|  Kasparov|             5|\n",
            "|   Carlsen|             4|\n",
            "|   Smyslov|             4|\n",
            "|   Spassky|             3|\n",
            "|      Euwe|             3|\n",
            "| Petrosian|             3|\n",
            "|Capablanca|             2|\n",
            "|       Tal|             2|\n",
            "|Bogoljubow|             2|\n",
            "|Kortschnoj|             2|\n",
            "|      Leko|             2|\n",
            "|   Topalov|             2|\n",
            "|  Chigorin|             2|\n",
            "+----------+--------------+\n",
            "only showing top 20 rows\n",
            "\n"
          ]
        }
      ]
    },
    {
      "cell_type": "code",
      "source": [
        "# Most and Least Popular eco move in world championship history.\n",
        "\n",
        "from pyspark.sql.functions import max as sparkMax, min as sparkMin\n",
        "eco_move = wcp1.groupBy('eco').count()\n",
        "eco_move = eco_move.withColumnRenamed('count','most')\n",
        "eco_move = eco_move.join(eco_codes,eco_move.eco == eco_codes.eco ,'inner').select(eco_move.eco,eco_codes.eco_name,eco_move.most)\n",
        "eco_move.createOrReplaceTempView('Most')\n",
        "eco_move = spark.sql(\"\"\"select * from Most\n",
        "                             where most = (select max(most) from Most) OR most = (select min(most) \n",
        "                             from Most) \n",
        "                             order by most DESC;\"\"\")\n",
        "df3 = eco_move\n",
        "eco_move.show( 2 )"
      ],
      "metadata": {
        "id": "tNEp7__LcAXl",
        "colab": {
          "base_uri": "https://localhost:8080/"
        },
        "outputId": "71c189be-c466-42aa-8eb9-21eb47539cab"
      },
      "execution_count": null,
      "outputs": [
        {
          "output_type": "stream",
          "name": "stdout",
          "text": [
            "+---+--------------------+----+\n",
            "|eco|            eco_name|most|\n",
            "+---+--------------------+----+\n",
            "|C52|        Evans Gambit|  15|\n",
            "|B34|Sicilian, Acceler...|   1|\n",
            "+---+--------------------+----+\n",
            "only showing top 2 rows\n",
            "\n"
          ]
        }
      ]
    },
    {
      "cell_type": "code",
      "source": [
        "# Find the eco move with most winnings.\n",
        "eco_winner = game_info.filter(game_info.white == game_info.winner)\n",
        "eco_winner = (eco_winner.groupBy('eco').count()).withColumnRenamed('count','Use_to_open')\n",
        "eco_winner = eco_winner.join(eco_codes,eco_winner.eco == eco_codes.eco, 'inner')\n",
        "eco_winner = eco_winner.orderBy(eco_winner['Use_to_open'].desc()).select(eco_codes.eco,eco_codes.eco_name,eco_winner.Use_to_open)\n",
        "eco_winner.createOrReplaceTempView('eco_win')\n",
        "df4 = eco_winner\n",
        "eco_winner.show()"
      ],
      "metadata": {
        "id": "nGwh51zxhxUK",
        "colab": {
          "base_uri": "https://localhost:8080/"
        },
        "outputId": "d2161d43-669f-46c0-c638-d00eb32195d4"
      },
      "execution_count": null,
      "outputs": [
        {
          "output_type": "stream",
          "name": "stdout",
          "text": [
            "+---+--------------------+-----------+\n",
            "|eco|            eco_name|Use_to_open|\n",
            "+---+--------------------+-----------+\n",
            "|B90|   Sicilian, Najdorf|         19|\n",
            "|C11|              French|         17|\n",
            "|C88|           Ruy Lopez|         16|\n",
            "|C42|      Petrov Defense|         15|\n",
            "|D37|Queen's Gambit De...|         14|\n",
            "|C65|Ruy Lopez, Berlin...|         14|\n",
            "|C45|         Scotch Game|         13|\n",
            "|C92|   Ruy Lopez, Closed|         11|\n",
            "|B12|   Caro-Kann Defense|         11|\n",
            "|B19|Caro-Kann, Classical|         10|\n",
            "|C52|        Evans Gambit|         10|\n",
            "|D17|Queen's Gambit De...|         10|\n",
            "|C67|           Ruy Lopez|         10|\n",
            "|D46|Queen's Gambit De...|          9|\n",
            "|D30|Queen's Gambit De...|          8|\n",
            "|C18|     French, Winawer|          8|\n",
            "|D27|Queen's Gambit Ac...|          8|\n",
            "|E15|      Queen's Indian|          8|\n",
            "|B51|Sicilian, Canal-S...|          8|\n",
            "|B48|Sicilian, Taimano...|          7|\n",
            "+---+--------------------+-----------+\n",
            "only showing top 20 rows\n",
            "\n"
          ]
        }
      ]
    },
    {
      "cell_type": "code",
      "source": [
        "# Longest and shortest game ever played in a world championship in terms of move.\n",
        "\n",
        "\n",
        "move_count = moves.groupby('game_id').count()\n",
        "move_count = move_count.filter(move_count['count'] >1 ).withColumnRenamed('count','game_lenght')\n",
        "move_count = move_count.join(wcp1,move_count.game_id ==wcp1.game_id, \"inner\") \\\n",
        "                    .select(move_count.game_id,wcp1.event,wcp1.tournament_name,move_count.game_lenght)\n",
        "move_count.createOrReplaceTempView('movels')\n",
        "movels = spark.sql(\"\"\"\n",
        "            SELECT game_id,event, tournament_name,int(game_lenght/2) as number_of_moves \n",
        "            FROM movels\n",
        "            WHERE game_lenght = (SELECT max(game_lenght) FROM movels)\n",
        "                     OR game_lenght = (SELECT min(game_lenght) FROM movels)\n",
        "            \"\"\")\n",
        "df5 = movels\n",
        "movels.show()"
      ],
      "metadata": {
        "id": "8sBwzVtJY8kl",
        "colab": {
          "base_uri": "https://localhost:8080/"
        },
        "outputId": "74e9814b-ebe7-4619-e7ed-03f15be71037"
      },
      "execution_count": null,
      "outputs": [
        {
          "output_type": "stream",
          "name": "stdout",
          "text": [
            "+--------------------+--------+---------------+---------------+\n",
            "|             game_id|   event|tournament_name|number_of_moves|\n",
            "+--------------------+--------+---------------+---------------+\n",
            "|646031d8-05e7-40b...|WCh 2012| WorldChamp2012|             16|\n",
            "|58e83255-93bb-4d5...|WCh 2021| WorldChamp2021|            135|\n",
            "+--------------------+--------+---------------+---------------+\n",
            "\n"
          ]
        }
      ]
    },
    {
      "cell_type": "code",
      "source": [
        "# Shortest and Longest Draw game ever Played.\n",
        "\n",
        "draw1 = game_info.filter(game_info.winner == 'draw')\n",
        "draw = moves.groupby('game_id').count()\n",
        "draw = draw.filter(draw['count'] >1 ).withColumnRenamed('count','game_lenght')\n",
        "draw = draw1.join(draw,draw.game_id ==draw1.game_id, \"inner\") \\\n",
        "                              .select(draw.game_id,draw1.event,draw1.tournament_name,draw.game_lenght)\n",
        "draw.createOrReplaceTempView('draw')\n",
        "draw = spark.sql(\"\"\"\n",
        "            SELECT game_id,event, tournament_name,int(game_lenght/2) as number_of_moves \n",
        "            FROM draw\n",
        "            WHERE game_lenght = (SELECT max(game_lenght) FROM draw)\n",
        "                     OR game_lenght = (SELECT min(game_lenght) FROM draw)\n",
        "            \"\"\")\n",
        "df6 =draw\n",
        "draw.show()"
      ],
      "metadata": {
        "id": "i0oqf1kGorbN",
        "colab": {
          "base_uri": "https://localhost:8080/"
        },
        "outputId": "5fa3d402-1b48-4e58-daf2-30f6ded8d6e0"
      },
      "execution_count": null,
      "outputs": [
        {
          "output_type": "stream",
          "name": "stdout",
          "text": [
            "+--------------------+-------------+---------------+---------------+\n",
            "|             game_id|        event|tournament_name|number_of_moves|\n",
            "+--------------------+-------------+---------------+---------------+\n",
            "|88f34084-e4df-490...|  FIDE WCh KO|  FideChamp2002|            129|\n",
            "|a27c2b95-fb62-4b6...|FIDE-Wch k.o.|  FideChamp1998|              6|\n",
            "+--------------------+-------------+---------------+---------------+\n",
            "\n"
          ]
        }
      ]
    },
    {
      "cell_type": "code",
      "source": [
        "# Most and Least rated Player\n",
        "\n",
        "rating = game_info.filter((game_info.white_elo >0) |(game_info.black_elo >0))\n",
        "rating.createOrReplaceTempView('rating')\n",
        "rating = spark.sql(\"\"\"SELECT  DISTINCT black as  player_name,white_elo as elo from rating\n",
        "                                where white_elo == (select min(white_elo) from rating) \n",
        "                                OR white_elo == (select max(white_elo) from rating)\"\"\")\n",
        "df7 = rating\n",
        "rating.show()"
      ],
      "metadata": {
        "id": "4qBr8IbulYHQ",
        "colab": {
          "base_uri": "https://localhost:8080/"
        },
        "outputId": "53251fc0-37a6-4c7e-f0a7-dd4794aea56a"
      },
      "execution_count": null,
      "outputs": [
        {
          "output_type": "stream",
          "name": "stdout",
          "text": [
            "+------------------+----+\n",
            "|       player_name| elo|\n",
            "+------------------+----+\n",
            "|         Topalov,V|2076|\n",
            "|Anand, Viswanathan|2870|\n",
            "+------------------+----+\n",
            "\n"
          ]
        }
      ]
    },
    {
      "cell_type": "code",
      "source": [
        "# 3rd Last Player with most Loss \n",
        "\n",
        "most_loss = game_info.groupBy(game_info.loser).count()\n",
        "most_loss = most_loss.orderBy(most_loss['count'].desc())\n",
        "most_loss = most_loss.limit(4)\n",
        "most_loss = most_loss.withColumnRenamed('count','tot')\n",
        "most_loss.createOrReplaceTempView('most_loss')\n",
        "most_loss =spark.sql(\"\"\"\n",
        "                        (SELECT loser as player_name from most_loss\n",
        "                        ORDER BY tot\n",
        "                        limit 1)\n",
        "                        \"\"\")\n",
        "df8 =most_loss\n",
        "most_loss.show()"
      ],
      "metadata": {
        "id": "MrUmxyqYnCX3",
        "colab": {
          "base_uri": "https://localhost:8080/"
        },
        "outputId": "cd889f6d-ad9f-40b2-9824-90afcf12dd88"
      },
      "execution_count": null,
      "outputs": [
        {
          "output_type": "stream",
          "name": "stdout",
          "text": [
            "+---------------+\n",
            "|    player_name|\n",
            "+---------------+\n",
            "|Karpov, Anatoly|\n",
            "+---------------+\n",
            "\n"
          ]
        }
      ]
    },
    {
      "cell_type": "code",
      "source": [
        "# How many times players with low rating won matches with their total win Count.\n",
        "\n",
        "low_rat = game_info.filter(game_info.winner_elo < game_info.loser_elo)\n",
        "low_rat = (low_rat.groupBy('winner').count()).withColumnRenamed('count','win_count')\n",
        "low_rat =low_rat.orderBy(low_rat.win_count.desc())\n",
        "df9 = low_rat\n",
        "low_rat.show()"
      ],
      "metadata": {
        "id": "OIobmTP5uoe6",
        "colab": {
          "base_uri": "https://localhost:8080/"
        },
        "outputId": "e09a2330-107b-48f3-af8b-bd507a63f00a"
      },
      "execution_count": null,
      "outputs": [
        {
          "output_type": "stream",
          "name": "stdout",
          "text": [
            "+--------------------+---------+\n",
            "|              winner|win_count|\n",
            "+--------------------+---------+\n",
            "|     Karpov, Anatoly|       20|\n",
            "|      Kasimdzhanov,R|       11|\n",
            "|           Macieja,B|        9|\n",
            "|           Kramnik,V|        8|\n",
            "|  Kortschnoj, Viktor|        8|\n",
            "|          Grischuk,A|        7|\n",
            "|        Ponomariov,R|        7|\n",
            "|Khalifman, Alexander|        6|\n",
            "|      Kasparov, Gary|        5|\n",
            "|   Akopian, Vladimir|        5|\n",
            "|           Sulskis,S|        5|\n",
            "|      Short, Nigel D|        5|\n",
            "|         Dominguez,L|        5|\n",
            "|           Ehlvest,J|        5|\n",
            "|           Gelfand,B|        4|\n",
            "|Nisipeanu, Liviu ...|        4|\n",
            "|         Filippov,Va|        4|\n",
            "|          Nakamura,H|        4|\n",
            "| Tkachiev, Vladislav|        4|\n",
            "|            Volkov,S|        4|\n",
            "+--------------------+---------+\n",
            "only showing top 20 rows\n",
            "\n"
          ]
        }
      ]
    },
    {
      "cell_type": "code",
      "source": [
        "# Move Sequence for Each Player in a Match\n",
        "\n",
        "seq =moves.orderBy(moves['move_no'].desc())\n",
        "seq = (seq.groupBy(['game_id','player']).count()).withColumnRenamed('count','move_no')\n",
        "seq1 =(seq.join(moves, ['move_no','game_id','player'],'inner')\\\n",
        "       .select('game_id','player','move_sequence','move_no_pair'))\\\n",
        "       .withColumnRenamed('move_no_pair','move_count')\n",
        "seq1 = seq1.orderBy(seq1.game_id.desc())\n",
        "df10 = seq1\n",
        "seq1.show()"
      ],
      "metadata": {
        "id": "0Prgg77zurNm",
        "colab": {
          "base_uri": "https://localhost:8080/"
        },
        "outputId": "8c81181e-df8c-4660-8a3b-d22d2d7884e0"
      },
      "execution_count": null,
      "outputs": [
        {
          "output_type": "stream",
          "name": "stdout",
          "text": [
            "+--------------------+-------------------+--------------------+----------+\n",
            "|             game_id|             player|       move_sequence|move_count|\n",
            "+--------------------+-------------------+--------------------+----------+\n",
            "|ffdfe902-b93f-4b5...|       Minasian,Art|e4|e6|d4|d5|Nc3|B...|        18|\n",
            "|ffdfe902-b93f-4b5...|       Villamayor,B|e4|e6|d4|d5|Nc3|B...|        17|\n",
            "|ffcd8f69-ec31-41a...| Tarrasch, Siegbert|e4|e5|Nf3|Nc6|Bb5...|        22|\n",
            "|ffb635d0-7e47-49b...|  Ivanchuk, Vassily|c4|e5|Nc3|Nc6|Nf3...|        15|\n",
            "|ff89b89b-81cb-44c...|         Grischuk,A|d4|Nf6|c4|e6|g3|d...|        30|\n",
            "|ff77eb24-43ad-4f7...|      Piket, Jeroen|d4|Nf6|c4|g6|Nc3|...|        26|\n",
            "|ff728052-ff60-4ed...|          Topalov,V|e4|e5|Nf3|Nf6|Nxe...|        16|\n",
            "|ff728052-ff60-4ed...|           Shirov,A|e4|e5|Nf3|Nf6|Nxe...|        15|\n",
            "|ff6a555b-8e5d-4a4...|         Vaganian,R|d4|d5|c4|e6|Nc3|B...|        25|\n",
            "|ff6a555b-8e5d-4a4...|           Bareev,E|d4|d5|c4|e6|Nc3|B...|        26|\n",
            "|ff40884b-817b-4d6...|     Kasparov, Gary|e4|e5|Nf3|Nc6|Bb5...|        21|\n",
            "|ff407407-1f74-4f4...| Botvinnik, Mikhail|d4|e6|c4|f5|g3|Nf...|        21|\n",
            "|ff2c2144-3649-48e...|Alekhine, Alexander|d4|Nf6|c4|g6|Nc3|...|        22|\n",
            "|ff29a8c6-776a-431...|          Ehlvest,J|Nf3|d5|d4|Nf6|c4|...|         7|\n",
            "|ff29a8c6-776a-431...|        Nogueiras,J|Nf3|d5|d4|Nf6|c4|...|         8|\n",
            "|ff045268-fbf5-4ec...|  Akopian, Vladimir|d4|Nf6|Nf3|e6|c4|...|        20|\n",
            "|fefc042d-ea22-497...|   Spassky, Boris V|e4|e5|Nf3|Nc6|Bb5...|        30|\n",
            "|feedbd50-d067-4ad...|  Zvjaginsev, Vadim|d4|e6|c4|Bb4+|Nc3...|        28|\n",
            "|fedda0a0-81a7-404...|          Carlsen,M|c4|c6|e4|d5|exd5|...|        24|\n",
            "|fed2503d-4cb9-4bb...|    Fedorov, Alexei|e4|c5|Nf3|d6|d4|c...|        18|\n",
            "+--------------------+-------------------+--------------------+----------+\n",
            "only showing top 20 rows\n",
            "\n"
          ]
        }
      ]
    },
    {
      "cell_type": "code",
      "source": [
        "# Total Number of games where losing player has more Captured score than Winning player.\n",
        "capt = moves.join(game_info,'game_id','inner')\n",
        "capt = capt.filter((moves.player == game_info.loser))\n",
        "capt = capt.groupBy('game_id','player').max().select('game_id','player','max(captured_score_for_white)','max(captured_score_for_black)')\n",
        "capt = capt.join(game_info,'game_id','inner').select('game_id','player','max(captured_score_for_white)','max(captured_score_for_black)','white')\n",
        "capt = capt.filter(((moves['player']==game_info['white']) & (capt['max(captured_score_for_white)'] > capt['max(captured_score_for_black)'])) |((moves['player']==game_info['black']) & (capt['max(captured_score_for_white)'] < capt['max(captured_score_for_black)']) ))\n",
        "capt.createOrReplaceTempView('capt')\n",
        "capt = spark.sql('select COUNT(*) as total_number_of_games from capt')\n",
        "df11 = capt\n",
        "capt.show()"
      ],
      "metadata": {
        "id": "mnnJDW_r-HfB",
        "colab": {
          "base_uri": "https://localhost:8080/"
        },
        "outputId": "4f86779f-4784-4b35-e89a-42401aadd0b8"
      },
      "execution_count": null,
      "outputs": [
        {
          "output_type": "stream",
          "name": "stdout",
          "text": [
            "+---------------------+\n",
            "|total_number_of_games|\n",
            "+---------------------+\n",
            "|                  209|\n",
            "+---------------------+\n",
            "\n"
          ]
        }
      ]
    },
    {
      "cell_type": "code",
      "source": [
        "# List All Perfect Tournament with Winner Name.\n",
        "perf_win = game_info.filter((game_info.winner != 'draw'))\n",
        "perf1 = perf_win.groupBy(['tournament_name','winner']).count().alias('wins').select(['tournament_name','winner'])\n",
        "perf2 = perf_win.groupBy(['tournament_name','loser']).count().alias('loses').\\\n",
        "                          withColumnRenamed('loser','winner').select(['tournament_name','winner'])\n",
        "perf = perf1.join(perf2,[perf1.tournament_name==perf2.tournament_name,perf1.winner == perf2.winner],'fullouter' )\\\n",
        "                                            .filter(perf2.winner.isNull()).\\\n",
        "                                            select(perf1['winner'],perf1['tournament_name'])\n",
        "perf = perf.withColumnRenamed('winner','winner_name')\n",
        "df12 = perf\n",
        "perf.show()"
      ],
      "metadata": {
        "id": "aax16Y2NA327",
        "colab": {
          "base_uri": "https://localhost:8080/"
        },
        "outputId": "b29ea1d0-b8ae-4cf8-ac8f-88fb4ac5b8d8"
      },
      "execution_count": null,
      "outputs": [
        {
          "output_type": "stream",
          "name": "stdout",
          "text": [
            "+--------------------+---------------+\n",
            "|         winner_name|tournament_name|\n",
            "+--------------------+---------------+\n",
            "|Capablanca, Jose ...| WorldChamp1921|\n",
            "|          Ciuksyte,D|  FideChamp2002|\n",
            "|            Karlov,A|  FideChamp2004|\n",
            "|           Carlsen,M| WorldChamp2021|\n",
            "|       Zielinska,Mar|  FideChamp2002|\n",
            "|Stepovaia Dianche...|  FideChamp2002|\n",
            "|           Topalov,V|  FideChamp2005|\n",
            "|     Lasker, Emanuel| WorldChamp1907|\n",
            "|     Carlsen, Magnus| WorldChamp2013|\n",
            "|            Foisor,C|  FideChamp2002|\n",
            "|             Anand,V| WorldChamp2007|\n",
            "|             Anand,V|  FideChamp2000|\n",
            "|     Lasker, Emanuel|WorldChamp1910b|\n",
            "|           Kramnik,V| WorldChamp2000|\n",
            "|          Kiseleva,N|  FideChamp2002|\n",
            "|  Anand, Viswanathan| WorldChamp2012|\n",
            "+--------------------+---------------+\n",
            "\n"
          ]
        }
      ]
    },
    {
      "cell_type": "code",
      "source": [
        "# Player with highest winning ratio.\n",
        "movess = moves.join(wcp,'game_id','inner')\n",
        "tot_played = movess.groupBy('game_id','player').count().withColumnRenamed('count','played').select('player','played')\n",
        "tot_played = tot_played.groupBy('player').count().withColumnRenamed('count','played').select('player','played')\n",
        "tot_win = wcp.groupBy('winner').count().withColumnRenamed('count','wins').select('winner','wins')\n",
        "win_ratio = tot_played.join(tot_win,tot_played.player == tot_win.winner,'inner')\n",
        "win_ratio.createOrReplaceTempView('ratio')\n",
        "ratio = spark.sql(\"\"\"\n",
        "                      SELECT player as player_name,played,wins,float(wins*100/played) as win_ratio from ratio\n",
        "                      ORDER BY win_ratio DESC\n",
        "                      limit 1\n",
        "                    \"\"\")\n",
        "ratio =ratio.select('player_name')\n",
        "df13 = ratio\n",
        "ratio.show()"
      ],
      "metadata": {
        "id": "KzKA0zv4YTT0",
        "colab": {
          "base_uri": "https://localhost:8080/"
        },
        "outputId": "01cdcd0b-2dc2-405c-e982-faf0056e1621"
      },
      "execution_count": null,
      "outputs": [
        {
          "output_type": "stream",
          "name": "stdout",
          "text": [
            "+---------------+\n",
            "|    player_name|\n",
            "+---------------+\n",
            "|Lasker, Emanuel|\n",
            "+---------------+\n",
            "\n"
          ]
        }
      ]
    },
    {
      "cell_type": "code",
      "source": [
        "# Player who had given checkmate with Pawn\n",
        "movess = moves.join(wcp,'game_id','inner')\n",
        "cp = movess.filter((movess.is_check_mate >=1)\\\n",
        "                  &(((movess.color == 'Black') & (movess.white_pawn_count >=1))\\\n",
        "                    |((movess.color == 'White')& (movess.black_pawn_count >=1)))).select('player')\n",
        "df14 = cp\n",
        "cp.show()"
      ],
      "metadata": {
        "id": "Sp-QiwCXYnMh",
        "colab": {
          "base_uri": "https://localhost:8080/"
        },
        "outputId": "1d913af0-903e-4485-a2d1-3e84fa3bf347"
      },
      "execution_count": null,
      "outputs": [
        {
          "output_type": "stream",
          "name": "stdout",
          "text": [
            "+-------------------+\n",
            "|             player|\n",
            "+-------------------+\n",
            "|Alekhine, Alexander|\n",
            "+-------------------+\n",
            "\n"
          ]
        }
      ]
    },
    {
      "cell_type": "code",
      "source": [
        "#List games where player has won game without queen.\n",
        "\n",
        "movess = moves.join(game_info,'game_id','inner')\n",
        "queenwo = movess.filter((movess.is_check_mate >=1)\\\n",
        "                  &(((movess.color == 'White') & (movess.white_queen_count ==0))\\\n",
        "                    |((movess.color == 'Black')& (movess.black_queen_count ==0))))\\\n",
        "                    .withColumnRenamed('player','player_name').select('game_id','event','player_name')\n",
        "df15 =queenwo\n",
        "queenwo.show()\n"
      ],
      "metadata": {
        "id": "J9IrmbYcp-rv",
        "colab": {
          "base_uri": "https://localhost:8080/"
        },
        "outputId": "cb95740d-af3a-44b3-b6f9-4cbe7cc0cb19"
      },
      "execution_count": null,
      "outputs": [
        {
          "output_type": "stream",
          "name": "stdout",
          "text": [
            "+--------------------+-------------+--------------+\n",
            "|             game_id|        event|   player_name|\n",
            "+--------------------+-------------+--------------+\n",
            "|04c81fe4-efd8-456...|  FIDE WCh KO|    Nakamura,H|\n",
            "|ac45a5ed-172d-4ae...|FIDE-Wch k.o.|Andersson, Ulf|\n",
            "+--------------------+-------------+--------------+\n",
            "\n"
          ]
        }
      ]
    },
    {
      "cell_type": "markdown",
      "source": [
        "# Section 3"
      ],
      "metadata": {
        "id": "VXCu72sI7jNG"
      }
    },
    {
      "cell_type": "code",
      "source": [
        "# Function will accept list of spark dataframe as argument."
      ],
      "metadata": {
        "id": "n3hTPr1A7dmK"
      },
      "execution_count": null,
      "outputs": []
    },
    {
      "cell_type": "code",
      "source": [
        "def csv_file(fil):\n",
        "  for i in range(0,15):\n",
        "      (globals()[fil[i]].toPandas())\\\n",
        "          .to_csv(\"/content/drive/MyDrive/DE_SOLUTION_ARAVIND_PS/results/{0}.csv\".format(fil[i]))"
      ],
      "metadata": {
        "id": "xGJ8cgPAvq3F"
      },
      "execution_count": null,
      "outputs": []
    },
    {
      "cell_type": "code",
      "source": [
        "# Mount your Google Drive if not mounted onto your colab notebook.\n",
        "try:\n",
        "  from google.colab import drive\n",
        "  drive.mount('/content/',force_remount =True)\n",
        "except ValueError:\n",
        "  print(\"Already Created\")\n",
        "else:\n",
        "  print(\"Sucessfully Created\")\n"
      ],
      "metadata": {
        "id": "h4eU4VV86hsP",
        "colab": {
          "base_uri": "https://localhost:8080/"
        },
        "outputId": "fc936665-4881-46e9-cf3f-2dddebf5b0f3"
      },
      "execution_count": null,
      "outputs": [
        {
          "output_type": "stream",
          "name": "stdout",
          "text": [
            "Already Created\n"
          ]
        }
      ]
    },
    {
      "cell_type": "code",
      "source": [
        "#  Create a directory in your google drive if not created with \n",
        "#               name: DE_SOLUTION_FirstName_LastName/results/\n",
        "\n",
        "import os.path\n",
        "from os import path\n",
        "import pandas as pd\n",
        "\n",
        "if path.exists('/content/drive/MyDrive/DE_SOLUTION_ARAVIND_PS/results/') == False:\n",
        "  os.mkdir('/content/drive/')\n",
        "  os.mkdir('/content/drive/MyDrive/')\n",
        "  os.mkdir('/content/drive/MyDrive/DE_SOLUTION_ARAVIND_PS/')\n",
        "  os.mkdir('/content/drive/MyDrive/DE_SOLUTION_ARAVIND_PS/results/')\n",
        "  print(\" Directory Created Sucessfully\")\n",
        "else:\n",
        "  print(\"Already folder Created\")\n",
        "\n"
      ],
      "metadata": {
        "id": "jJyLOWNjWA_i",
        "colab": {
          "base_uri": "https://localhost:8080/"
        },
        "outputId": "9e2add70-c9cc-4d40-fa3f-b08a1406b71d"
      },
      "execution_count": null,
      "outputs": [
        {
          "output_type": "stream",
          "name": "stdout",
          "text": [
            "Already folder Created\n"
          ]
        }
      ]
    },
    {
      "cell_type": "code",
      "source": [
        "fil = []\n",
        "for i in range(1,16):\n",
        "  fil.append('df{0}'.format(i))"
      ],
      "metadata": {
        "id": "ZyoDoKYO7ARa"
      },
      "execution_count": null,
      "outputs": []
    },
    {
      "cell_type": "code",
      "source": [
        "# Convert spark dataframe to pandas dataframe\n",
        "# Convert the pandas dataframe to csv to '/content/gdrive/MyDrive/DE_SOLUTION_ARAVIND_PS/results/'\n",
        "csv_file(fil)\n",
        "print('All results files are saved as df& question Number')"
      ],
      "metadata": {
        "id": "b7m1UIJL6-va",
        "colab": {
          "base_uri": "https://localhost:8080/"
        },
        "outputId": "abac5ca0-1004-409f-ccc4-fbefa2c5810d"
      },
      "execution_count": null,
      "outputs": [
        {
          "output_type": "stream",
          "name": "stdout",
          "text": [
            "All results files are saved as df& question Number\n"
          ]
        }
      ]
    }
  ]
}